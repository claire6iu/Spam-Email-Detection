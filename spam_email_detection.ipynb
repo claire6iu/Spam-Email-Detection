{
 "cells": [
  {
   "cell_type": "markdown",
   "id": "69624aa0",
   "metadata": {},
   "source": [
    "# Classifying Email as Spam or Non-Spam"
   ]
  },
  {
   "cell_type": "markdown",
   "id": "e0c66d97",
   "metadata": {},
   "source": [
    "## Build two models for detecting spam messages:\n",
    "1. Best model in terms of overall predictive accuracy\n",
    "2. Best cost-sensitive classification model in terms of average misclassification cost"
   ]
  },
  {
   "cell_type": "markdown",
   "id": "ac6d99b8",
   "metadata": {},
   "source": [
    "## Setup"
   ]
  },
  {
   "cell_type": "code",
   "execution_count": 1,
   "id": "90e62490",
   "metadata": {},
   "outputs": [],
   "source": [
    "%matplotlib inline\n",
    "import matplotlib.pyplot as plt\n",
    "import seaborn as sns\n",
    "\n",
    "import numpy as np\n",
    "import pandas as pd\n",
    "\n",
    "from sklearn.model_selection import GridSearchCV, RandomizedSearchCV, cross_val_score, cross_val_predict, KFold, train_test_split\n",
    "from sklearn.preprocessing import StandardScaler\n",
    "from sklearn.pipeline import Pipeline\n",
    "from sklearn import metrics\n",
    "\n",
    "from sklearn.tree import DecisionTreeClassifier\n",
    "from sklearn.neighbors import KNeighborsClassifier\n",
    "from sklearn.linear_model import LogisticRegression\n",
    "from sklearn.svm import SVC\n",
    "from sklearn.ensemble import RandomForestClassifier\n",
    "from sklearn.ensemble import GradientBoostingClassifier\n",
    "from xgboost import XGBClassifier"
   ]
  },
  {
   "cell_type": "code",
   "execution_count": 2,
   "id": "f6d159d2",
   "metadata": {},
   "outputs": [],
   "source": [
    "import warnings\n",
    "warnings.filterwarnings(\"ignore\")"
   ]
  },
  {
   "cell_type": "code",
   "execution_count": 3,
   "id": "a3538427",
   "metadata": {},
   "outputs": [
    {
     "data": {
      "text/html": [
       "<div>\n",
       "<style scoped>\n",
       "    .dataframe tbody tr th:only-of-type {\n",
       "        vertical-align: middle;\n",
       "    }\n",
       "\n",
       "    .dataframe tbody tr th {\n",
       "        vertical-align: top;\n",
       "    }\n",
       "\n",
       "    .dataframe thead th {\n",
       "        text-align: right;\n",
       "    }\n",
       "</style>\n",
       "<table border=\"1\" class=\"dataframe\">\n",
       "  <thead>\n",
       "    <tr style=\"text-align: right;\">\n",
       "      <th></th>\n",
       "      <th>word_freq_make</th>\n",
       "      <th>word_freq_address</th>\n",
       "      <th>word_freq_all</th>\n",
       "      <th>word_freq_3d</th>\n",
       "      <th>word_freq_our</th>\n",
       "      <th>word_freq_over</th>\n",
       "      <th>word_freq_remove</th>\n",
       "      <th>word_freq_internet</th>\n",
       "      <th>word_freq_order</th>\n",
       "      <th>word_freq_mail</th>\n",
       "      <th>...</th>\n",
       "      <th>char_freq_;</th>\n",
       "      <th>char_freq_(</th>\n",
       "      <th>char_freq_[</th>\n",
       "      <th>char_freq_!</th>\n",
       "      <th>char_freq_$</th>\n",
       "      <th>char_freq_#</th>\n",
       "      <th>capital_run_length_average</th>\n",
       "      <th>capital_run_length_longest</th>\n",
       "      <th>capital_run_length_total</th>\n",
       "      <th>Class</th>\n",
       "    </tr>\n",
       "  </thead>\n",
       "  <tbody>\n",
       "    <tr>\n",
       "      <th>0</th>\n",
       "      <td>0.00</td>\n",
       "      <td>0.64</td>\n",
       "      <td>0.64</td>\n",
       "      <td>0.0</td>\n",
       "      <td>0.32</td>\n",
       "      <td>0.00</td>\n",
       "      <td>0.00</td>\n",
       "      <td>0.00</td>\n",
       "      <td>0.00</td>\n",
       "      <td>0.00</td>\n",
       "      <td>...</td>\n",
       "      <td>0.00</td>\n",
       "      <td>0.000</td>\n",
       "      <td>0.0</td>\n",
       "      <td>0.778</td>\n",
       "      <td>0.000</td>\n",
       "      <td>0.000</td>\n",
       "      <td>3.756</td>\n",
       "      <td>61</td>\n",
       "      <td>278</td>\n",
       "      <td>1</td>\n",
       "    </tr>\n",
       "    <tr>\n",
       "      <th>1</th>\n",
       "      <td>0.21</td>\n",
       "      <td>0.28</td>\n",
       "      <td>0.50</td>\n",
       "      <td>0.0</td>\n",
       "      <td>0.14</td>\n",
       "      <td>0.28</td>\n",
       "      <td>0.21</td>\n",
       "      <td>0.07</td>\n",
       "      <td>0.00</td>\n",
       "      <td>0.94</td>\n",
       "      <td>...</td>\n",
       "      <td>0.00</td>\n",
       "      <td>0.132</td>\n",
       "      <td>0.0</td>\n",
       "      <td>0.372</td>\n",
       "      <td>0.180</td>\n",
       "      <td>0.048</td>\n",
       "      <td>5.114</td>\n",
       "      <td>101</td>\n",
       "      <td>1028</td>\n",
       "      <td>1</td>\n",
       "    </tr>\n",
       "    <tr>\n",
       "      <th>2</th>\n",
       "      <td>0.06</td>\n",
       "      <td>0.00</td>\n",
       "      <td>0.71</td>\n",
       "      <td>0.0</td>\n",
       "      <td>1.23</td>\n",
       "      <td>0.19</td>\n",
       "      <td>0.19</td>\n",
       "      <td>0.12</td>\n",
       "      <td>0.64</td>\n",
       "      <td>0.25</td>\n",
       "      <td>...</td>\n",
       "      <td>0.01</td>\n",
       "      <td>0.143</td>\n",
       "      <td>0.0</td>\n",
       "      <td>0.276</td>\n",
       "      <td>0.184</td>\n",
       "      <td>0.010</td>\n",
       "      <td>9.821</td>\n",
       "      <td>485</td>\n",
       "      <td>2259</td>\n",
       "      <td>1</td>\n",
       "    </tr>\n",
       "    <tr>\n",
       "      <th>3</th>\n",
       "      <td>0.00</td>\n",
       "      <td>0.00</td>\n",
       "      <td>0.00</td>\n",
       "      <td>0.0</td>\n",
       "      <td>0.63</td>\n",
       "      <td>0.00</td>\n",
       "      <td>0.31</td>\n",
       "      <td>0.63</td>\n",
       "      <td>0.31</td>\n",
       "      <td>0.63</td>\n",
       "      <td>...</td>\n",
       "      <td>0.00</td>\n",
       "      <td>0.137</td>\n",
       "      <td>0.0</td>\n",
       "      <td>0.137</td>\n",
       "      <td>0.000</td>\n",
       "      <td>0.000</td>\n",
       "      <td>3.537</td>\n",
       "      <td>40</td>\n",
       "      <td>191</td>\n",
       "      <td>1</td>\n",
       "    </tr>\n",
       "    <tr>\n",
       "      <th>4</th>\n",
       "      <td>0.00</td>\n",
       "      <td>0.00</td>\n",
       "      <td>0.00</td>\n",
       "      <td>0.0</td>\n",
       "      <td>0.63</td>\n",
       "      <td>0.00</td>\n",
       "      <td>0.31</td>\n",
       "      <td>0.63</td>\n",
       "      <td>0.31</td>\n",
       "      <td>0.63</td>\n",
       "      <td>...</td>\n",
       "      <td>0.00</td>\n",
       "      <td>0.135</td>\n",
       "      <td>0.0</td>\n",
       "      <td>0.135</td>\n",
       "      <td>0.000</td>\n",
       "      <td>0.000</td>\n",
       "      <td>3.537</td>\n",
       "      <td>40</td>\n",
       "      <td>191</td>\n",
       "      <td>1</td>\n",
       "    </tr>\n",
       "  </tbody>\n",
       "</table>\n",
       "<p>5 rows × 58 columns</p>\n",
       "</div>"
      ],
      "text/plain": [
       "   word_freq_make  word_freq_address  word_freq_all  word_freq_3d  \\\n",
       "0            0.00               0.64           0.64           0.0   \n",
       "1            0.21               0.28           0.50           0.0   \n",
       "2            0.06               0.00           0.71           0.0   \n",
       "3            0.00               0.00           0.00           0.0   \n",
       "4            0.00               0.00           0.00           0.0   \n",
       "\n",
       "   word_freq_our  word_freq_over  word_freq_remove  word_freq_internet  \\\n",
       "0           0.32            0.00              0.00                0.00   \n",
       "1           0.14            0.28              0.21                0.07   \n",
       "2           1.23            0.19              0.19                0.12   \n",
       "3           0.63            0.00              0.31                0.63   \n",
       "4           0.63            0.00              0.31                0.63   \n",
       "\n",
       "   word_freq_order  word_freq_mail  ...  char_freq_;  char_freq_(  \\\n",
       "0             0.00            0.00  ...         0.00        0.000   \n",
       "1             0.00            0.94  ...         0.00        0.132   \n",
       "2             0.64            0.25  ...         0.01        0.143   \n",
       "3             0.31            0.63  ...         0.00        0.137   \n",
       "4             0.31            0.63  ...         0.00        0.135   \n",
       "\n",
       "   char_freq_[  char_freq_!  char_freq_$  char_freq_#  \\\n",
       "0          0.0        0.778        0.000        0.000   \n",
       "1          0.0        0.372        0.180        0.048   \n",
       "2          0.0        0.276        0.184        0.010   \n",
       "3          0.0        0.137        0.000        0.000   \n",
       "4          0.0        0.135        0.000        0.000   \n",
       "\n",
       "   capital_run_length_average  capital_run_length_longest  \\\n",
       "0                       3.756                          61   \n",
       "1                       5.114                         101   \n",
       "2                       9.821                         485   \n",
       "3                       3.537                          40   \n",
       "4                       3.537                          40   \n",
       "\n",
       "   capital_run_length_total  Class  \n",
       "0                       278      1  \n",
       "1                      1028      1  \n",
       "2                      2259      1  \n",
       "3                       191      1  \n",
       "4                       191      1  \n",
       "\n",
       "[5 rows x 58 columns]"
      ]
     },
     "execution_count": 3,
     "metadata": {},
     "output_type": "execute_result"
    }
   ],
   "source": [
    "url = \"https://archive.ics.uci.edu/static/public/94/data.csv\"\n",
    "spam_df = pd.read_csv(url)\n",
    "spam_df.head()"
   ]
  },
  {
   "cell_type": "markdown",
   "id": "46efdbc7",
   "metadata": {},
   "source": [
    "## Data Processing"
   ]
  },
  {
   "cell_type": "code",
   "execution_count": 4,
   "id": "2d0c39d2",
   "metadata": {},
   "outputs": [],
   "source": [
    "# select input and output variables\n",
    "X = spam_df.drop('Class', axis=1, inplace=False)\n",
    "y = spam_df['Class']\n",
    "\n",
    "# train-test split\n",
    "X_train, X_test, y_train, y_test = train_test_split(X, y, test_size=0.33)\n",
    "\n",
    "# normalization\n",
    "X_train_norm = StandardScaler().fit(X_train).transform(X_train)\n",
    "X_test_norm = StandardScaler().fit(X_test).transform(X_test)"
   ]
  },
  {
   "cell_type": "markdown",
   "id": "34b72202",
   "metadata": {},
   "source": [
    "## 1. Model Selection: Accuracy\n",
    "\n",
    "- Decision Tree\n",
    "- KNN\n",
    "- Logistic Regression\n",
    "- SVM\n",
    "- Random Forest\n",
    "- Gradient Boosting"
   ]
  },
  {
   "cell_type": "code",
   "execution_count": 5,
   "id": "0a1fcedb",
   "metadata": {},
   "outputs": [],
   "source": [
    "# Nested Cross-Validation\n",
    "cv_inner = KFold(n_splits=3, shuffle=True, random_state=42)\n",
    "cv_outer = KFold(n_splits=10, shuffle=True, random_state=42)"
   ]
  },
  {
   "cell_type": "markdown",
   "id": "7e984818",
   "metadata": {},
   "source": [
    "### Decision Tree"
   ]
  },
  {
   "cell_type": "code",
   "execution_count": 6,
   "id": "f5a42b8b",
   "metadata": {},
   "outputs": [
    {
     "name": "stdout",
     "output_type": "stream",
     "text": [
      "Accuracy: 0.90882\n",
      "best parameter: {'criterion': 'entropy', 'max_depth': 19}\n"
     ]
    }
   ],
   "source": [
    "from sklearn.tree import DecisionTreeClassifier\n",
    "\n",
    "dt = DecisionTreeClassifier()\n",
    "\n",
    "param_grid = {\n",
    "    'max_depth': list(range(1, 21)),\n",
    "    'criterion': ['gini','entropy']\n",
    "}\n",
    "\n",
    "search = GridSearchCV(dt, param_grid, scoring='accuracy', cv=cv_inner, refit=True)\n",
    "res = search.fit(X_train, y_train)\n",
    "scores = cross_val_score(search, X_train, y_train, scoring='accuracy', cv=cv_outer)\n",
    "print('Accuracy: {0:.5f}\\nbest parameter: {1}'.format(np.mean(scores), res.best_params_))"
   ]
  },
  {
   "cell_type": "markdown",
   "id": "b4f2d422",
   "metadata": {},
   "source": [
    "### KNN"
   ]
  },
  {
   "cell_type": "code",
   "execution_count": 20,
   "id": "c964f4ad",
   "metadata": {},
   "outputs": [
    {
     "name": "stdout",
     "output_type": "stream",
     "text": [
      "Accuracy: 0.89779\n",
      "best parameter: {'n_neighbors': 3}\n"
     ]
    }
   ],
   "source": [
    "from sklearn.neighbors import KNeighborsClassifier\n",
    "\n",
    "knn = KNeighborsClassifier()\n",
    "\n",
    "param_grid = {'n_neighbors': list(range(1,21))}\n",
    "\n",
    "search = GridSearchCV(knn, param_grid, scoring='accuracy', cv=cv_inner, refit=True)\n",
    "res = search.fit(X_train_norm, y_train)\n",
    "scores = cross_val_score(search, X_train_norm, y_train, scoring='accuracy', cv=cv_outer)\n",
    "print('Accuracy: {0:.5f}\\nbest parameter: {1}'.format(np.mean(scores), res.best_params_))"
   ]
  },
  {
   "cell_type": "markdown",
   "id": "e5a3b510",
   "metadata": {},
   "source": [
    "### Logistic Regression"
   ]
  },
  {
   "cell_type": "code",
   "execution_count": 22,
   "id": "ac67efb0",
   "metadata": {},
   "outputs": [
    {
     "name": "stdout",
     "output_type": "stream",
     "text": [
      "Accuracy: 0.92538\n",
      "best parameter: {'C': 100}\n"
     ]
    }
   ],
   "source": [
    "from sklearn.linear_model import LogisticRegression\n",
    "\n",
    "clf = LogisticRegression(max_iter=1000)\n",
    "\n",
    "param_grid = {'C': [0.001, 0.01, 0.1, 1, 10, 100, 1000]}\n",
    "\n",
    "search = GridSearchCV(clf, param_grid, scoring='accuracy', cv=cv_inner, refit=True)\n",
    "res = search.fit(X_train, y_train)\n",
    "scores = cross_val_score(search, X_train, y_train, scoring='accuracy', cv=cv_outer)\n",
    "print('Accuracy: {0:.5f}\\nbest parameter: {1}'.format(np.mean(scores), res.best_params_))"
   ]
  },
  {
   "cell_type": "markdown",
   "id": "c1f01bf3",
   "metadata": {},
   "source": [
    "### SVM"
   ]
  },
  {
   "cell_type": "code",
   "execution_count": 23,
   "id": "3b5fce22",
   "metadata": {},
   "outputs": [
    {
     "name": "stdout",
     "output_type": "stream",
     "text": [
      "Accuracy: 0.93122\n",
      "best parameter: {'C': 10, 'gamma': 0.001}\n"
     ]
    }
   ],
   "source": [
    "from sklearn.svm import SVC\n",
    "\n",
    "clf = SVC()\n",
    "\n",
    "param_grid = {\n",
    "    'C': [0.001, 0.01, 0.1, 1, 10],\n",
    "    'gamma': [0.001, 0.01, 0.1, 1]\n",
    "}\n",
    "\n",
    "search = GridSearchCV(clf, param_grid, scoring='accuracy', cv=cv_inner, refit=True)\n",
    "res = search.fit(X_train, y_train)\n",
    "scores = cross_val_score(search, X_train_norm, y_train, scoring='accuracy', cv=cv_outer)\n",
    "print('Accuracy: {0:.5f}\\nbest parameter: {1}'.format(np.mean(scores), res.best_params_))"
   ]
  },
  {
   "cell_type": "markdown",
   "id": "4c80ce8e",
   "metadata": {},
   "source": [
    "### Random Forest"
   ]
  },
  {
   "cell_type": "code",
   "execution_count": 10,
   "id": "8aab622f",
   "metadata": {},
   "outputs": [
    {
     "name": "stdout",
     "output_type": "stream",
     "text": [
      "Accuracy: 0.94225\n",
      "best parameter: {'n_estimators': 200, 'min_samples_split': 5, 'min_samples_leaf': 3, 'max_depth': 100}\n"
     ]
    }
   ],
   "source": [
    "from sklearn.ensemble import RandomForestClassifier\n",
    "\n",
    "rnd = RandomForestClassifier()\n",
    "\n",
    "param_grid = {\n",
    "    'max_depth': [80, 90, 100],\n",
    "    'n_estimators': [100, 150, 200, 300],\n",
    "    'min_samples_split': [2, 5, 10],\n",
    "    'min_samples_leaf': [3, 4, 5]\n",
    "}\n",
    "\n",
    "search = RandomizedSearchCV(rnd, param_grid, scoring='accuracy', cv=cv_inner, n_iter=30)\n",
    "res = search.fit(X_train, y_train)\n",
    "scores = cross_val_score(search, X_train, y_train, scoring='accuracy', cv=cv_outer)\n",
    "print('Accuracy: {0:.5f}\\nbest parameter: {1}'.format(np.mean(scores), res.best_params_))"
   ]
  },
  {
   "cell_type": "markdown",
   "id": "7bffb39c",
   "metadata": {},
   "source": [
    "### Gradient Boosting"
   ]
  },
  {
   "cell_type": "code",
   "execution_count": 50,
   "id": "60c255b4",
   "metadata": {},
   "outputs": [
    {
     "name": "stdout",
     "output_type": "stream",
     "text": [
      "Accuracy: 0.94516\n",
      "best parameter: {'n_estimators': 200, 'min_samples_split': 15, 'max_depth': 7, 'learning_rate': 0.2}\n"
     ]
    }
   ],
   "source": [
    "from sklearn.ensemble import GradientBoostingClassifier\n",
    "\n",
    "gb = GradientBoostingClassifier()\n",
    "\n",
    "param_grid = {\n",
    "    'learning_rate': [0.01,0.1,0.2],\n",
    "    'n_estimators': [100, 150, 200, 250],\n",
    "    'min_samples_split': [2, 5, 10, 15],\n",
    "    'max_depth': [3,4,5,6,7,8]\n",
    "}\n",
    "\n",
    "search = RandomizedSearchCV(gb, param_grid, scoring='accuracy', cv=cv_inner, n_iter=30)\n",
    "res = search.fit(X_train, y_train)\n",
    "scores = cross_val_score(search, X_train, y_train, scoring='accuracy', cv=cv_outer)\n",
    "print('Accuracy: {0:.5f}\\nbest parameter: {1}'.format(np.mean(scores), res.best_params_))"
   ]
  },
  {
   "cell_type": "code",
   "execution_count": 15,
   "id": "e566745c",
   "metadata": {},
   "outputs": [
    {
     "data": {
      "text/html": [
       "<div>\n",
       "<style scoped>\n",
       "    .dataframe tbody tr th:only-of-type {\n",
       "        vertical-align: middle;\n",
       "    }\n",
       "\n",
       "    .dataframe tbody tr th {\n",
       "        vertical-align: top;\n",
       "    }\n",
       "\n",
       "    .dataframe thead th {\n",
       "        text-align: right;\n",
       "    }\n",
       "</style>\n",
       "<table border=\"1\" class=\"dataframe\">\n",
       "  <thead>\n",
       "    <tr style=\"text-align: right;\">\n",
       "      <th></th>\n",
       "      <th>Model</th>\n",
       "      <th>Accuracy</th>\n",
       "    </tr>\n",
       "  </thead>\n",
       "  <tbody>\n",
       "    <tr>\n",
       "      <th>5</th>\n",
       "      <td>Gradient Boosting</td>\n",
       "      <td>0.94516</td>\n",
       "    </tr>\n",
       "    <tr>\n",
       "      <th>4</th>\n",
       "      <td>Random Forest</td>\n",
       "      <td>0.94225</td>\n",
       "    </tr>\n",
       "    <tr>\n",
       "      <th>3</th>\n",
       "      <td>SVM</td>\n",
       "      <td>0.93122</td>\n",
       "    </tr>\n",
       "    <tr>\n",
       "      <th>2</th>\n",
       "      <td>Logistic Regression</td>\n",
       "      <td>0.92538</td>\n",
       "    </tr>\n",
       "    <tr>\n",
       "      <th>0</th>\n",
       "      <td>Decision Tree</td>\n",
       "      <td>0.90882</td>\n",
       "    </tr>\n",
       "    <tr>\n",
       "      <th>1</th>\n",
       "      <td>KNN</td>\n",
       "      <td>0.89779</td>\n",
       "    </tr>\n",
       "  </tbody>\n",
       "</table>\n",
       "</div>"
      ],
      "text/plain": [
       "                 Model  Accuracy\n",
       "5    Gradient Boosting   0.94516\n",
       "4        Random Forest   0.94225\n",
       "3                  SVM   0.93122\n",
       "2  Logistic Regression   0.92538\n",
       "0        Decision Tree   0.90882\n",
       "1                  KNN   0.89779"
      ]
     },
     "execution_count": 15,
     "metadata": {},
     "output_type": "execute_result"
    }
   ],
   "source": [
    "df_accuracy = pd.DataFrame({\n",
    "    'Model': ['Decision Tree','KNN','Logistic Regression','SVM','Random Forest','Gradient Boosting'],\n",
    "    'Accuracy': [0.90882, 0.89779, 0.92538, 0.93122, 0.94225, 0.94516]\n",
    "})\n",
    "df_accuracy.sort_values(by='Accuracy', ascending=False)"
   ]
  },
  {
   "cell_type": "markdown",
   "id": "a567b7fb",
   "metadata": {},
   "source": [
    "## Performance Evaluation"
   ]
  },
  {
   "cell_type": "code",
   "execution_count": 51,
   "id": "57c5e3bd",
   "metadata": {},
   "outputs": [],
   "source": [
    "# Build and fit the model using the best model - Gradient Boosting\n",
    "gb_best = GradientBoostingClassifier(n_estimators=200, min_samples_split=15, max_depth=7, learning_rate=0.2)\n",
    "gb_best.fit(X_train, y_train)\n",
    "y_pred = gb_best.predict(X_test)\n",
    "y_score = gb_best.predict_proba(X_test)"
   ]
  },
  {
   "cell_type": "code",
   "execution_count": 52,
   "id": "e16a1d7a",
   "metadata": {},
   "outputs": [
    {
     "name": "stdout",
     "output_type": "stream",
     "text": [
      "accuracy: 0.96182\n"
     ]
    }
   ],
   "source": [
    "print(\"accuracy: \" + str(round(metrics.accuracy_score(y_test, y_pred),5)))"
   ]
  },
  {
   "cell_type": "code",
   "execution_count": 53,
   "id": "5d0a2890",
   "metadata": {},
   "outputs": [
    {
     "name": "stdout",
     "output_type": "stream",
     "text": [
      "              precision    recall  f1-score   support\n",
      "\n",
      "           0       0.96      0.97      0.97       897\n",
      "           1       0.96      0.95      0.95       622\n",
      "\n",
      "    accuracy                           0.96      1519\n",
      "   macro avg       0.96      0.96      0.96      1519\n",
      "weighted avg       0.96      0.96      0.96      1519\n",
      "\n"
     ]
    }
   ],
   "source": [
    "# Evaluate model performance\n",
    "print(metrics.classification_report(y_test, y_pred))"
   ]
  },
  {
   "cell_type": "code",
   "execution_count": 54,
   "id": "70d6ee02",
   "metadata": {},
   "outputs": [
    {
     "data": {
      "text/plain": [
       "array([[873,  24],\n",
       "       [ 34, 588]])"
      ]
     },
     "execution_count": 54,
     "metadata": {},
     "output_type": "execute_result"
    }
   ],
   "source": [
    "metrics.confusion_matrix(y_test, y_pred)"
   ]
  },
  {
   "cell_type": "code",
   "execution_count": 55,
   "id": "6fbc78da",
   "metadata": {},
   "outputs": [
    {
     "data": {
      "image/png": "[encoded data removed]",
      "text/plain": [
       "<Figure size 500x500 with 1 Axes>"
      ]
     },
     "metadata": {},
     "output_type": "display_data"
    }
   ],
   "source": [
    "# Plot ROC curve\n",
    "fpr, tpr, _ = metrics.roc_curve(y_test, y_pred)\n",
    "auc = round(metrics.roc_auc_score(y_test, y_pred), 5)\n",
    "\n",
    "plt.figure(figsize=(5, 5))\n",
    "plt.plot(fpr, tpr, label=\"ROC Curve (AUC=\" + str(auc) + \")\")\n",
    "plt.plot([0, 1], [0, 1], 'k--', label=\"Random classifier's ROC curve\")\n",
    "\n",
    "plt.xlabel('False Positive Rate')\n",
    "plt.ylabel('True Positive Rate')\n",
    "plt.legend()\n",
    "plt.grid()\n",
    "plt.axis([0, 1, 0, 1])\n",
    "plt.show()"
   ]
  },
  {
   "cell_type": "code",
   "execution_count": 56,
   "id": "148ad8ff",
   "metadata": {},
   "outputs": [
    {
     "data": {
      "text/plain": [
       "<Figure size 800x600 with 0 Axes>"
      ]
     },
     "metadata": {},
     "output_type": "display_data"
    },
    {
     "data": {
      "image/png": "[encoded data removed]",
      "text/plain": [
       "<Figure size 640x480 with 1 Axes>"
      ]
     },
     "metadata": {},
     "output_type": "display_data"
    }
   ],
   "source": [
    "# Plot lift curve\n",
    "import scikitplot as skplt\n",
    "plt.figure(figsize=(8, 6))\n",
    "skplt.metrics.plot_lift_curve(y_test, y_score)\n",
    "plt.title('Lift Curve')\n",
    "plt.xlabel(\"Percentage of test instances\")\n",
    "plt.ylabel(\"Lift\")\n",
    "plt.show()"
   ]
  },
  {
   "cell_type": "markdown",
   "id": "eddca112",
   "metadata": {},
   "source": [
    "## 2. Model Selection: Average Missclassification Cost\n",
    "- Decision Tree\n",
    "- KNN\n",
    "- Logistic Regression\n",
    "- SVM\n",
    "- Random Forest\n",
    "- Gradient Boosting"
   ]
  },
  {
   "cell_type": "code",
   "execution_count": null,
   "id": "767d64a4",
   "metadata": {},
   "outputs": [],
   "source": [
    "from sklearn.metrics import confusion_matrix, make_scorer\n",
    "\n",
    "# Define cost matrix\n",
    "cost_matrix = np.array([[0, 1], [10, 0]])\n",
    "\n",
    "# Define a function to calculate misclassification cost\n",
    "def missclassification_cost(y_true, y_pred):\n",
    "    return np.sum(cost_matrix * confusion_matrix(y_true, y_pred)) / len(y_true)\n",
    "\n",
    "# Create a scorer using the defined misclassification cost function\n",
    "cost = make_scorer(missclassification_cost, greater_is_better=False)"
   ]
  },
  {
   "cell_type": "code",
   "execution_count": 22,
   "id": "cfb4d6bb",
   "metadata": {},
   "outputs": [],
   "source": [
    "# Nested Cross-Validation\n",
    "cv_inner = KFold(n_splits=3, shuffle=True, random_state=42)\n",
    "cv_outer = KFold(n_splits=10, shuffle=True, random_state=42)"
   ]
  },
  {
   "cell_type": "markdown",
   "id": "b7cd483f",
   "metadata": {},
   "source": [
    "### Decision Tree"
   ]
  },
  {
   "cell_type": "code",
   "execution_count": 34,
   "id": "a88293de",
   "metadata": {},
   "outputs": [
    {
     "name": "stdout",
     "output_type": "stream",
     "text": [
      "average misclassification cost: -0.51261\n",
      "{'criterion': 'entropy', 'max_depth': 16}\n"
     ]
    }
   ],
   "source": [
    "from sklearn.tree import DecisionTreeClassifier\n",
    "\n",
    "dt = DecisionTreeClassifier()\n",
    "\n",
    "param_grid = {\n",
    "    'max_depth': list(range(1, 21)),\n",
    "    'criterion': ['gini','entropy']\n",
    "}\n",
    "\n",
    "search = GridSearchCV(dt, param_grid, scoring=cost, cv=cv_inner)\n",
    "res = search.fit(X_train, y_train)\n",
    "scores = cross_val_score(search, X_train, y_train, scoring=cost, cv=cv_outer)\n",
    "print('average misclassification cost: {0:.5f}'.format(np.mean(scores)))\n",
    "print(res.best_params_)"
   ]
  },
  {
   "cell_type": "markdown",
   "id": "2b85d3ef",
   "metadata": {},
   "source": [
    "### KNN"
   ]
  },
  {
   "cell_type": "code",
   "execution_count": 35,
   "id": "d23b55f2",
   "metadata": {},
   "outputs": [
    {
     "name": "stdout",
     "output_type": "stream",
     "text": [
      "average misclassification cost: -0.51617\n",
      "{'n_neighbors': 1}\n"
     ]
    }
   ],
   "source": [
    "from sklearn.neighbors import KNeighborsClassifier\n",
    "\n",
    "knn = KNeighborsClassifier()\n",
    "\n",
    "param_grid = {'n_neighbors': list(range(1,21))}\n",
    "\n",
    "search = GridSearchCV(knn, param_grid, scoring=cost, cv=cv_inner)\n",
    "res = search.fit(X_train, y_train)\n",
    "scores = cross_val_score(search, X_train_norm, y_train, scoring=cost, cv=cv_outer)\n",
    "print('average misclassification cost: {0:.5f}'.format(np.mean(scores)))\n",
    "print(res.best_params_)"
   ]
  },
  {
   "cell_type": "markdown",
   "id": "7f72e91f",
   "metadata": {},
   "source": [
    "### Logistic Regression"
   ]
  },
  {
   "cell_type": "code",
   "execution_count": 36,
   "id": "0b602de6",
   "metadata": {},
   "outputs": [
    {
     "name": "stdout",
     "output_type": "stream",
     "text": [
      "average misclassification cost: -0.49414\n",
      "{'C': 1}\n"
     ]
    }
   ],
   "source": [
    "from sklearn.linear_model import LogisticRegression\n",
    "\n",
    "lr = LogisticRegression(max_iter=1000)\n",
    "\n",
    "param_grid = {'C': [0.001, 0.01, 0.1, 1, 10, 100, 1000]}\n",
    "\n",
    "search = GridSearchCV(lr, param_grid, scoring=cost, cv=cv_inner)\n",
    "res = search.fit(X_train, y_train)\n",
    "scores = cross_val_score(search, X_train, y_train, scoring=cost, cv=cv_outer)\n",
    "print('average misclassification cost: {0:.5f}'.format(np.mean(scores)))\n",
    "print(res.best_params_)"
   ]
  },
  {
   "cell_type": "markdown",
   "id": "013bb32c",
   "metadata": {},
   "source": [
    "### SVM"
   ]
  },
  {
   "cell_type": "code",
   "execution_count": 37,
   "id": "0da569ca",
   "metadata": {},
   "outputs": [
    {
     "name": "stdout",
     "output_type": "stream",
     "text": [
      "average misclassification cost: -0.45587\n",
      "{'C': 10, 'gamma': 0.01}\n"
     ]
    }
   ],
   "source": [
    "from sklearn.svm import SVC\n",
    "\n",
    "clf = SVC()\n",
    "\n",
    "param_grid = {\n",
    "    'C': [0.001, 0.01, 0.1, 1, 10],\n",
    "    'gamma': [0.001, 0.01, 0.1, 1]\n",
    "}\n",
    "\n",
    "search = GridSearchCV(clf, param_grid, scoring=cost, cv=cv_inner)\n",
    "res = search.fit(X_train, y_train)\n",
    "scores = cross_val_score(search, X_train_norm, y_train, scoring=cost, cv=cv_outer)\n",
    "print('average misclassification cost: {0:.5f}'.format(np.mean(scores)))\n",
    "print(res.best_params_)"
   ]
  },
  {
   "cell_type": "markdown",
   "id": "86590a93",
   "metadata": {},
   "source": [
    "### Random Forest"
   ]
  },
  {
   "cell_type": "code",
   "execution_count": 38,
   "id": "15f644ae",
   "metadata": {},
   "outputs": [
    {
     "name": "stdout",
     "output_type": "stream",
     "text": [
      "average misclassification cost: -0.52751\n",
      "{'max_depth': 7, 'min_samples_split': 7, 'n_estimators': 200}\n"
     ]
    }
   ],
   "source": [
    "from sklearn.ensemble import RandomForestClassifier\n",
    "\n",
    "rnd = RandomForestClassifier()\n",
    "\n",
    "# define hyparameter to search\n",
    "param_grid = {\n",
    "    'max_depth': [80, 90, 100],\n",
    "    'n_estimators': [100, 150, 200, 250, 300],\n",
    "    'min_samples_split':[2,5,8,10],\n",
    "    'min_samples_leaf': [3, 4, 5]\n",
    "}\n",
    "\n",
    "search = GridSearchCV(rnd, param_grid, scoring=cost, cv=cv_inner)\n",
    "res = search.fit(X_train, y_train)\n",
    "scores = cross_val_score(search, X_train, y_train, scoring=cost, cv=cv_outer)\n",
    "print('average misclassification cost: {0:.5f}'.format(np.mean(scores)))\n",
    "print(res.best_params_)"
   ]
  },
  {
   "cell_type": "markdown",
   "id": "44c2d2a8",
   "metadata": {},
   "source": [
    "### Gradient Boosting"
   ]
  },
  {
   "cell_type": "code",
   "execution_count": 41,
   "id": "29601410",
   "metadata": {},
   "outputs": [
    {
     "name": "stdout",
     "output_type": "stream",
     "text": [
      "average misclassification cost: -0.30600\n",
      "{'n_estimators': 250, 'min_samples_split': 10, 'max_depth': 4, 'learning_rate': 0.2}\n"
     ]
    }
   ],
   "source": [
    "from sklearn.ensemble import GradientBoostingClassifier\n",
    "\n",
    "gb = GradientBoostingClassifier()\n",
    "\n",
    "param_grid = {\n",
    "    'learning_rate': [0.01,0.1,0.2],\n",
    "    'n_estimators': [100, 150, 200, 250],\n",
    "    'min_samples_split': [2, 5, 10, 15],\n",
    "    'max_depth': [3,4,5]\n",
    "}\n",
    "\n",
    "search = RandomizedSearchCV(gb, param_grid, scoring=cost, cv=cv_inner, n_iter=30)\n",
    "res = search.fit(X_train, y_train)\n",
    "scores = cross_val_score(search, X_train, y_train, scoring=cost, cv=cv_outer)\n",
    "print('average misclassification cost: {0:.5f}'.format(np.mean(scores)))\n",
    "print(res.best_params_)"
   ]
  },
  {
   "cell_type": "code",
   "execution_count": 17,
   "id": "3c4d7c66",
   "metadata": {},
   "outputs": [
    {
     "data": {
      "text/html": [
       "<div>\n",
       "<style scoped>\n",
       "    .dataframe tbody tr th:only-of-type {\n",
       "        vertical-align: middle;\n",
       "    }\n",
       "\n",
       "    .dataframe tbody tr th {\n",
       "        vertical-align: top;\n",
       "    }\n",
       "\n",
       "    .dataframe thead th {\n",
       "        text-align: right;\n",
       "    }\n",
       "</style>\n",
       "<table border=\"1\" class=\"dataframe\">\n",
       "  <thead>\n",
       "    <tr style=\"text-align: right;\">\n",
       "      <th></th>\n",
       "      <th>Model</th>\n",
       "      <th>Misclassification Cost</th>\n",
       "    </tr>\n",
       "  </thead>\n",
       "  <tbody>\n",
       "    <tr>\n",
       "      <th>5</th>\n",
       "      <td>Gradient Boosting</td>\n",
       "      <td>-0.30600</td>\n",
       "    </tr>\n",
       "    <tr>\n",
       "      <th>3</th>\n",
       "      <td>SVM</td>\n",
       "      <td>-0.45587</td>\n",
       "    </tr>\n",
       "    <tr>\n",
       "      <th>2</th>\n",
       "      <td>Logistic Regression</td>\n",
       "      <td>-0.49414</td>\n",
       "    </tr>\n",
       "    <tr>\n",
       "      <th>0</th>\n",
       "      <td>Decision Tree</td>\n",
       "      <td>-0.51261</td>\n",
       "    </tr>\n",
       "    <tr>\n",
       "      <th>1</th>\n",
       "      <td>KNN</td>\n",
       "      <td>-0.51617</td>\n",
       "    </tr>\n",
       "    <tr>\n",
       "      <th>4</th>\n",
       "      <td>Random Forest</td>\n",
       "      <td>-0.52751</td>\n",
       "    </tr>\n",
       "  </tbody>\n",
       "</table>\n",
       "</div>"
      ],
      "text/plain": [
       "                 Model  Misclassification Cost\n",
       "5    Gradient Boosting                -0.30600\n",
       "3                  SVM                -0.45587\n",
       "2  Logistic Regression                -0.49414\n",
       "0        Decision Tree                -0.51261\n",
       "1                  KNN                -0.51617\n",
       "4        Random Forest                -0.52751"
      ]
     },
     "execution_count": 17,
     "metadata": {},
     "output_type": "execute_result"
    }
   ],
   "source": [
    "df_cost = pd.DataFrame({\n",
    "    'Model': ['Decision Tree','KNN','Logistic Regression','SVM','Random Forest','Gradient Boosting'],\n",
    "    'Misclassification Cost': [-0.51261, -0.51617, -0.49414, -0.45587, -0.52751, -0.30600]\n",
    "})\n",
    "df_cost.sort_values(by='Misclassification Cost', ascending=False)"
   ]
  },
  {
   "cell_type": "markdown",
   "id": "1e52c09b",
   "metadata": {},
   "source": [
    "## Performance Evaluation"
   ]
  },
  {
   "cell_type": "code",
   "execution_count": 42,
   "id": "d5963323",
   "metadata": {},
   "outputs": [],
   "source": [
    "# Build and fit the model using the best model - Gradient Boosting\n",
    "gb_best = GradientBoostingClassifier(learning_rate=0.2, n_estimators=250, max_depth=4, min_samples_split=10)\n",
    "gb_best.fit(X_train, y_train)\n",
    "y_pred = gb_best.predict(X_test)\n",
    "y_score = gb_best.predict_proba(X_test)"
   ]
  },
  {
   "cell_type": "code",
   "execution_count": 43,
   "id": "48ee2e46",
   "metadata": {},
   "outputs": [
    {
     "name": "stdout",
     "output_type": "stream",
     "text": [
      "accuracy: 0.96116\n"
     ]
    }
   ],
   "source": [
    "print(\"accuracy: \" + str(round(metrics.accuracy_score(y_test, y_pred),5)))"
   ]
  },
  {
   "cell_type": "code",
   "execution_count": 44,
   "id": "e27fb157",
   "metadata": {},
   "outputs": [
    {
     "name": "stdout",
     "output_type": "stream",
     "text": [
      "              precision    recall  f1-score   support\n",
      "\n",
      "           0       0.96      0.97      0.97       897\n",
      "           1       0.96      0.95      0.95       622\n",
      "\n",
      "    accuracy                           0.96      1519\n",
      "   macro avg       0.96      0.96      0.96      1519\n",
      "weighted avg       0.96      0.96      0.96      1519\n",
      "\n"
     ]
    }
   ],
   "source": [
    "print(metrics.classification_report(y_test, y_pred))"
   ]
  },
  {
   "cell_type": "code",
   "execution_count": 45,
   "id": "ceb9c622",
   "metadata": {},
   "outputs": [
    {
     "data": {
      "text/plain": [
       "array([[872,  25],\n",
       "       [ 34, 588]])"
      ]
     },
     "execution_count": 45,
     "metadata": {},
     "output_type": "execute_result"
    }
   ],
   "source": [
    "confusion_matrix(y_test, y_pred)"
   ]
  },
  {
   "cell_type": "code",
   "execution_count": 46,
   "id": "545d916d",
   "metadata": {},
   "outputs": [
    {
     "data": {
      "text/plain": [
       "0.24028966425279788"
      ]
     },
     "execution_count": 46,
     "metadata": {},
     "output_type": "execute_result"
    }
   ],
   "source": [
    "missclassification_cost(y_test, y_pred)"
   ]
  },
  {
   "cell_type": "code",
   "execution_count": 47,
   "id": "493f361d",
   "metadata": {},
   "outputs": [
    {
     "data": {
      "image/png": "[encoded data removed]",
      "text/plain": [
       "<Figure size 500x500 with 1 Axes>"
      ]
     },
     "metadata": {},
     "output_type": "display_data"
    }
   ],
   "source": [
    "# Plot ROC curve\n",
    "fpr, tpr, _ = metrics.roc_curve(y_test, y_pred)\n",
    "auc = round(metrics.roc_auc_score(y_test, y_pred), 5)\n",
    "\n",
    "plt.figure(figsize=(5, 5))\n",
    "plt.plot(fpr, tpr, label=\"ROC Curve (AUC=\" + str(auc) + \")\")\n",
    "plt.plot([0, 1], [0, 1], 'k--', label=\"Random classifier's ROC curve\")\n",
    "\n",
    "plt.xlabel('False Positive Rate')\n",
    "plt.ylabel('True Positive Rate')\n",
    "plt.legend()\n",
    "plt.grid()\n",
    "plt.axis([0, 1, 0, 1])\n",
    "plt.show()"
   ]
  },
  {
   "cell_type": "code",
   "execution_count": 48,
   "id": "ebfb21da",
   "metadata": {},
   "outputs": [
    {
     "data": {
      "text/plain": [
       "<Figure size 800x600 with 0 Axes>"
      ]
     },
     "metadata": {},
     "output_type": "display_data"
    },
    {
     "data": {
      "image/png": "[encoded data removed]",
      "text/plain": [
       "<Figure size 640x480 with 1 Axes>"
      ]
     },
     "metadata": {},
     "output_type": "display_data"
    }
   ],
   "source": [
    "# Plot lift curve\n",
    "import scikitplot as skplt\n",
    "plt.figure(figsize=(8, 6))\n",
    "skplt.metrics.plot_lift_curve(y_test, y_score)\n",
    "plt.title('Lift Curve')\n",
    "plt.xlabel(\"Percentage of test instances\")\n",
    "plt.ylabel(\"Lift\")\n",
    "plt.show()"
   ]
  }
 ],
 "metadata": {
  "kernelspec": {
   "display_name": "Python 3 (ipykernel)",
   "language": "python",
   "name": "python3"
  },
  "language_info": {
   "codemirror_mode": {
    "name": "ipython",
    "version": 3
   },
   "file_extension": ".py",
   "mimetype": "text/x-python",
   "name": "python",
   "nbconvert_exporter": "python",
   "pygments_lexer": "ipython3",
   "version": "3.10.12"
  }
 },
 "nbformat": 4,
 "nbformat_minor": 5
}
